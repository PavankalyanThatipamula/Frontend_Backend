{
 "cells": [
  {
   "cell_type": "code",
   "execution_count": 12,
   "id": "9b9a4d70-d015-4b65-820a-7cca5078a5b8",
   "metadata": {},
   "outputs": [],
   "source": [
    "import pandas as pd\n",
    "from sklearn.pipeline import Pipeline"
   ]
  },
  {
   "cell_type": "code",
   "execution_count": 13,
   "id": "a57aa10a-0efd-4000-acf0-dbf44069d856",
   "metadata": {},
   "outputs": [],
   "source": [
    "# Load data for badminton\n",
    "data_badminton = pd.read_csv(r\"C:\\Users\\Pavan Kalyan\\Desktop\\DS_intership\\Task 6\\reviews_badminton\\data.csv\")\n",
    "\n",
    "# Load data for tea\n",
    "data_tea = pd.read_csv(r\"C:\\Users\\Pavan Kalyan\\Desktop\\DS_intership\\Task 6\\reviews_tea\\data.csv\")\n",
    "# Load data for tawa\n",
    "data_tawa = pd.read_csv(r\"C:\\Users\\Pavan Kalyan\\Desktop\\DS_intership\\Task 6\\reviews_tawa\\data.csv\")"
   ]
  },
  {
   "cell_type": "code",
   "execution_count": 14,
   "id": "c6c85187-34f1-41af-bf2d-71eab6b76a50",
   "metadata": {},
   "outputs": [
    {
     "name": "stdout",
     "output_type": "stream",
     "text": [
      "EDA for data_badminton:\n",
      "<class 'pandas.core.frame.DataFrame'>\n",
      "RangeIndex: 8518 entries, 0 to 8517\n",
      "Data columns (total 8 columns):\n",
      " #   Column           Non-Null Count  Dtype  \n",
      "---  ------           --------------  -----  \n",
      " 0   Reviewer Name    8508 non-null   object \n",
      " 1   Review Title     8508 non-null   object \n",
      " 2   Place of Review  8468 non-null   object \n",
      " 3   Up Votes         8508 non-null   float64\n",
      " 4   Down Votes       8508 non-null   float64\n",
      " 5   Month            8053 non-null   object \n",
      " 6   Review text      8510 non-null   object \n",
      " 7   Ratings          8518 non-null   int64  \n",
      "dtypes: float64(2), int64(1), object(5)\n",
      "memory usage: 532.5+ KB\n",
      "None\n",
      "          Up Votes   Down Votes      Ratings\n",
      "count  8508.000000  8508.000000  8518.000000\n",
      "mean      0.391396     0.121768     4.181028\n",
      "std      11.613909     3.248022     1.262200\n",
      "min       0.000000     0.000000     1.000000\n",
      "25%       0.000000     0.000000     4.000000\n",
      "50%       0.000000     0.000000     5.000000\n",
      "75%       0.000000     0.000000     5.000000\n",
      "max     889.000000   219.000000     5.000000\n",
      "\n",
      "EDA for data_tawa:\n",
      "<class 'pandas.core.frame.DataFrame'>\n",
      "RangeIndex: 2531 entries, 0 to 2530\n",
      "Data columns (total 8 columns):\n",
      " #   Column           Non-Null Count  Dtype  \n",
      "---  ------           --------------  -----  \n",
      " 0   Reviewer_Name    2531 non-null   object \n",
      " 1   Reviewer_Rating  2285 non-null   float64\n",
      " 2   Review_Title     2531 non-null   object \n",
      " 3   Review_Text      2531 non-null   object \n",
      " 4   Place_of_Review  2531 non-null   object \n",
      " 5   Date_of_Review   2531 non-null   object \n",
      " 6   Up_Votes         2531 non-null   int64  \n",
      " 7   Down_Votes       2531 non-null   int64  \n",
      "dtypes: float64(1), int64(2), object(5)\n",
      "memory usage: 158.3+ KB\n",
      "None\n",
      "       Reviewer_Rating     Up_Votes   Down_Votes\n",
      "count      2285.000000  2531.000000  2531.000000\n",
      "mean          4.490153     1.668906     0.493876\n",
      "std           0.708662    15.462623     5.485326\n",
      "min           3.000000     0.000000     0.000000\n",
      "25%           4.000000     0.000000     0.000000\n",
      "50%           5.000000     0.000000     0.000000\n",
      "75%           5.000000     0.000000     0.000000\n",
      "max           5.000000   378.000000   144.000000\n",
      "\n",
      "EDA for data_tea:\n",
      "<class 'pandas.core.frame.DataFrame'>\n",
      "RangeIndex: 9170 entries, 0 to 9169\n",
      "Data columns (total 8 columns):\n",
      " #   Column           Non-Null Count  Dtype \n",
      "---  ------           --------------  ----- \n",
      " 0   reviewer_name    9170 non-null   object\n",
      " 1   reviewer_rating  9170 non-null   int64 \n",
      " 2   review_title     9170 non-null   object\n",
      " 3   review_text      9170 non-null   object\n",
      " 4   place_of_review  9170 non-null   object\n",
      " 5   Date_of_review   9170 non-null   object\n",
      " 6   up_votes         9170 non-null   int64 \n",
      " 7   Down_votes       9170 non-null   int64 \n",
      "dtypes: int64(3), object(5)\n",
      "memory usage: 573.3+ KB\n",
      "None\n",
      "       reviewer_rating     up_votes   Down_votes\n",
      "count      9170.000000  9170.000000  9170.000000\n",
      "mean          4.400000    80.747001    24.300000\n",
      "std           1.200065    78.390238    24.602358\n",
      "min           1.000000    13.000000     2.000000\n",
      "25%           4.000000    26.000000     5.000000\n",
      "50%           5.000000    50.500000    16.000000\n",
      "75%           5.000000    89.000000    29.000000\n",
      "max           5.000000   236.000000    79.000000\n"
     ]
    }
   ],
   "source": [
    "# EDA for data_badminton\n",
    "print(\"EDA for data_badminton:\")\n",
    "print(data_badminton.info())\n",
    "print(data_badminton.describe())\n",
    "\n",
    "# EDA for data_tawa\n",
    "print(\"\\nEDA for data_tawa:\")\n",
    "print(data_tawa.info())\n",
    "print(data_tawa.describe())\n",
    "\n",
    "# EDA for data_tea\n",
    "print(\"\\nEDA for data_tea:\")\n",
    "print(data_tea.info())\n",
    "print(data_tea.describe())"
   ]
  },
  {
   "cell_type": "code",
   "execution_count": 15,
   "id": "c1be2317-e568-4df0-9f40-39d071e880a3",
   "metadata": {},
   "outputs": [],
   "source": [
    "# Rename columns to have consistent names\n",
    "data_badminton.rename(columns={'Reviewer Name': 'reviewer_name',\n",
    "                                'Review Title': 'review_title',\n",
    "                                'Place of Review': 'place_of_review',\n",
    "                                'Up Votes': 'up_votes',\n",
    "                                'Down Votes': 'down_votes',\n",
    "                                'Month': 'date_of_review',\n",
    "                                'Review text': 'review_text',\n",
    "                                'Ratings': 'reviewer_rating'}, inplace=True)\n",
    "\n",
    "data_tawa.rename(columns={'Reviewer_Name': 'reviewer_name',\n",
    "                            'Reviewer_Rating': 'reviewer_rating',\n",
    "                            'Review_Title': 'review_title',\n",
    "                            'Review_Text': 'review_text',\n",
    "                            'Place_of_Review': 'place_of_review',\n",
    "                            'Date_of_Review': 'date_of_review',\n",
    "                            'Up_Votes': 'up_votes',\n",
    "                            'Down_Votes': 'down_votes'}, inplace=True)\n",
    "\n",
    "data_tea.rename(columns={'reviewer_rating': 'reviewer_rating',\n",
    "                            'reviewer_name': 'reviewer_name',\n",
    "                            'review_title': 'review_title',\n",
    "                            'review_text': 'review_text',\n",
    "                            'place_of_review': 'place_of_review',\n",
    "                            'Date_of_review': 'date_of_review',\n",
    "                            'up_votes': 'up_votes',\n",
    "                            'Down_votes': 'down_votes'}, inplace=True)"
   ]
  },
  {
   "cell_type": "code",
   "execution_count": 16,
   "id": "aeb187e9-7f69-4953-b313-3e07d73f6fec",
   "metadata": {},
   "outputs": [],
   "source": [
    "# Add a 'Product' column to each dataset\n",
    "data_badminton['Product'] = 'Badminton'\n",
    "data_tawa['Product'] = 'Tawa'\n",
    "data_tea['Product'] = 'Tea'\n",
    "\n",
    "# Concatenate datasets for easier analysis\n",
    "data_combined = pd.concat([data_badminton, data_tawa, data_tea], ignore_index=True)"
   ]
  },
  {
   "cell_type": "code",
   "execution_count": 17,
   "id": "b1ad7388-fa5f-4109-b714-c5194c9e9da0",
   "metadata": {},
   "outputs": [
    {
     "data": {
      "text/plain": [
       "Index(['reviewer_name', 'review_title', 'place_of_review', 'up_votes',\n",
       "       'down_votes', 'date_of_review', 'review_text', 'reviewer_rating',\n",
       "       'Product'],\n",
       "      dtype='object')"
      ]
     },
     "execution_count": 17,
     "metadata": {},
     "output_type": "execute_result"
    }
   ],
   "source": [
    "data_combined.columns"
   ]
  },
  {
   "cell_type": "code",
   "execution_count": 18,
   "id": "79b35c30-6975-44b6-b9c8-687cd683cba5",
   "metadata": {},
   "outputs": [
    {
     "data": {
      "text/plain": [
       "(20219, 9)"
      ]
     },
     "execution_count": 18,
     "metadata": {},
     "output_type": "execute_result"
    }
   ],
   "source": [
    "data_combined.shape"
   ]
  },
  {
   "cell_type": "code",
   "execution_count": 19,
   "id": "9366d08e",
   "metadata": {},
   "outputs": [
    {
     "data": {
      "text/plain": [
       "0"
      ]
     },
     "execution_count": 19,
     "metadata": {},
     "output_type": "execute_result"
    }
   ],
   "source": [
    "data_combined['review_text'] = data_combined['review_text'].fillna('')\n",
    "data_combined['review_text'].isnull().sum()"
   ]
  },
  {
   "cell_type": "code",
   "execution_count": 55,
   "id": "6a9d05e5",
   "metadata": {},
   "outputs": [],
   "source": [
    "import re\n",
    "import nltk\n",
    "from nltk.corpus import stopwords\n",
    "from nltk.tokenize import word_tokenize\n",
    "from nltk.stem import WordNetLemmatizer\n",
    "\n",
    "# Initialize WordNet lemmatizer\n",
    "lemmatizer = WordNetLemmatizer()\n",
    "\n",
    "#nltk.download('punkt')\n",
    "#nltk.download('stopwords')\n",
    "#nltk.download('wordnet')\n",
    "\n",
    "\n",
    "\n",
    "def lowers_text(x):\n",
    "    return x.str.lower()\n",
    "def special_char(x):\n",
    "    return x.apply(lambda x : re.sub(r'[^\\w\\s]',\"\",x))\n",
    "def Digits(x):\n",
    "    return x.apply(lambda x: re.sub(r'\\d+', '',x))\n",
    "def lemma(x):\n",
    "    from nltk.tokenize import word_tokenize as wt\n",
    "    list_stp = stopwords.words('english')\n",
    "    wl = WordNetLemmatizer()\n",
    "    \n",
    "    def lemmatize_text(text):\n",
    "        words = wt(text)\n",
    "        lemmatized_words = [wl.lemmatize(word,pos=\"v\") for word in words if word not in list_stp ]\n",
    "        return \" \".join(lemmatized_words)\n",
    "    return x.apply(lemmatize_text)\n"
   ]
  },
  {
   "cell_type": "code",
   "execution_count": 58,
   "id": "a275baed",
   "metadata": {},
   "outputs": [],
   "source": [
    "from sklearn.preprocessing import FunctionTransformer\n",
    "        \n",
    "\n",
    "# Creating Pipeline for Text_cleaning\n",
    "Pre_process_pip = Pipeline([\n",
    "    ('Lower', FunctionTransformer(lowers_text, validate=False)),\n",
    "    ('Digits', FunctionTransformer(Digits, validate=False)),\n",
    "    ('Special_characters', FunctionTransformer(special_char, validate=False)),\n",
    "    ('Advance', FunctionTransformer(lemma, validate=False))\n",
    "])\n",
    "\n"
   ]
  },
  {
   "cell_type": "code",
   "execution_count": 59,
   "id": "efee5ec9",
   "metadata": {},
   "outputs": [
    {
     "name": "stdout",
     "output_type": "stream",
     "text": [
      "                                         review_text  \\\n",
      "0  Nice product, good quality, but price is now r...   \n",
      "1  They didn't supplied Yonex Mavis 350. Outside ...   \n",
      "2  Worst product. Damaged shuttlecocks packed in ...   \n",
      "3  Quite O. K. , but nowadays  the quality of the...   \n",
      "4  Over pricedJust â?¹620 ..from retailer.I didn'...   \n",
      "\n",
      "                                 cleaned_review_text  \n",
      "0  nice product good quality price rise bad sign ...  \n",
      "1  didnt supply yonex mavis outside cover yonex a...  \n",
      "2  worst product damage shuttlecock pack new box ...  \n",
      "3  quite k nowadays quality cork like years back ...  \n",
      "4  pricedjust â¹ retaileri didnt understand wat a...  \n"
     ]
    }
   ],
   "source": [
    "\n",
    "# Apply preprocessing function to the 'review_text' column\n",
    "\n",
    "data_combined['cleaned_review_text']=Pre_process_pip.transform(data_combined['review_text'])\n",
    "\n",
    "# Preview the preprocessed text\n",
    "print(data_combined[['review_text', 'cleaned_review_text']].head())"
   ]
  },
  {
   "cell_type": "code",
   "execution_count": 61,
   "id": "cbc4f308",
   "metadata": {},
   "outputs": [],
   "source": [
    "# Serialisation of Text_preprocess pipeline\n",
    "import pickle\n",
    "with open(r\"Application_Deployment\\models\\Text_pip.pkl\", 'wb') as file:\n",
    "    pickle.dump(Pre_process_pip, file)"
   ]
  },
  {
   "cell_type": "raw",
   "id": "09c3beb4",
   "metadata": {},
   "source": [
    "# Testing \n",
    "text = pd.Series(\"This is good Product\")\n",
    "\n",
    "pp = Pre_process_pip.transform(text)\n",
    "p_y =model.predict(pp)\n",
    "if p_y ==1:\n",
    "    print('Positive')"
   ]
  },
  {
   "cell_type": "code",
   "execution_count": null,
   "id": "90d7fff1",
   "metadata": {},
   "outputs": [],
   "source": []
  },
  {
   "cell_type": "code",
   "execution_count": 34,
   "id": "9c38050d-9f2f-4d29-93e0-e4ea7e4369ec",
   "metadata": {},
   "outputs": [
    {
     "data": {
      "text/plain": [
       "Index(['reviewer_name', 'review_title', 'place_of_review', 'up_votes',\n",
       "       'down_votes', 'date_of_review', 'review_text', 'reviewer_rating',\n",
       "       'Product', 'cleaned_review_text'],\n",
       "      dtype='object')"
      ]
     },
     "execution_count": 34,
     "metadata": {},
     "output_type": "execute_result"
    }
   ],
   "source": [
    "data_combined.columns"
   ]
  },
  {
   "cell_type": "code",
   "execution_count": 35,
   "id": "8e56c31a-3207-4fae-a0e9-9abfe3e4f9a4",
   "metadata": {},
   "outputs": [
    {
     "data": {
      "text/html": [
       "<div>\n",
       "<style scoped>\n",
       "    .dataframe tbody tr th:only-of-type {\n",
       "        vertical-align: middle;\n",
       "    }\n",
       "\n",
       "    .dataframe tbody tr th {\n",
       "        vertical-align: top;\n",
       "    }\n",
       "\n",
       "    .dataframe thead th {\n",
       "        text-align: right;\n",
       "    }\n",
       "</style>\n",
       "<table border=\"1\" class=\"dataframe\">\n",
       "  <thead>\n",
       "    <tr style=\"text-align: right;\">\n",
       "      <th></th>\n",
       "      <th>reviewer_name</th>\n",
       "      <th>review_title</th>\n",
       "      <th>place_of_review</th>\n",
       "      <th>up_votes</th>\n",
       "      <th>down_votes</th>\n",
       "      <th>date_of_review</th>\n",
       "      <th>review_text</th>\n",
       "      <th>reviewer_rating</th>\n",
       "      <th>Product</th>\n",
       "      <th>cleaned_review_text</th>\n",
       "    </tr>\n",
       "  </thead>\n",
       "  <tbody>\n",
       "    <tr>\n",
       "      <th>0</th>\n",
       "      <td>Kamal Suresh</td>\n",
       "      <td>Nice product</td>\n",
       "      <td>Certified Buyer, Chirakkal</td>\n",
       "      <td>889.0</td>\n",
       "      <td>64.0</td>\n",
       "      <td>Feb 2021</td>\n",
       "      <td>Nice product, good quality, but price is now r...</td>\n",
       "      <td>4.0</td>\n",
       "      <td>Badminton</td>\n",
       "      <td>nice product good quality price rise bad sign ...</td>\n",
       "    </tr>\n",
       "    <tr>\n",
       "      <th>1</th>\n",
       "      <td>Flipkart Customer</td>\n",
       "      <td>Don't waste your money</td>\n",
       "      <td>Certified Buyer, Hyderabad</td>\n",
       "      <td>109.0</td>\n",
       "      <td>6.0</td>\n",
       "      <td>Feb 2021</td>\n",
       "      <td>They didn't supplied Yonex Mavis 350. Outside ...</td>\n",
       "      <td>1.0</td>\n",
       "      <td>Badminton</td>\n",
       "      <td>didnt supply yonex mavis outside cover yonex a...</td>\n",
       "    </tr>\n",
       "    <tr>\n",
       "      <th>2</th>\n",
       "      <td>A. S. Raja Srinivasan</td>\n",
       "      <td>Did not meet expectations</td>\n",
       "      <td>Certified Buyer, Dharmapuri</td>\n",
       "      <td>42.0</td>\n",
       "      <td>3.0</td>\n",
       "      <td>Apr 2021</td>\n",
       "      <td>Worst product. Damaged shuttlecocks packed in ...</td>\n",
       "      <td>1.0</td>\n",
       "      <td>Badminton</td>\n",
       "      <td>worst product damage shuttlecock pack new box ...</td>\n",
       "    </tr>\n",
       "    <tr>\n",
       "      <th>3</th>\n",
       "      <td>Suresh Narayanasamy</td>\n",
       "      <td>Fair</td>\n",
       "      <td>Certified Buyer, Chennai</td>\n",
       "      <td>25.0</td>\n",
       "      <td>1.0</td>\n",
       "      <td>NaN</td>\n",
       "      <td>Quite O. K. , but nowadays  the quality of the...</td>\n",
       "      <td>3.0</td>\n",
       "      <td>Badminton</td>\n",
       "      <td>quite k nowadays quality cork like years back ...</td>\n",
       "    </tr>\n",
       "    <tr>\n",
       "      <th>4</th>\n",
       "      <td>ASHIK P A</td>\n",
       "      <td>Over priced</td>\n",
       "      <td>NaN</td>\n",
       "      <td>147.0</td>\n",
       "      <td>24.0</td>\n",
       "      <td>Apr 2016</td>\n",
       "      <td>Over pricedJust â?¹620 ..from retailer.I didn'...</td>\n",
       "      <td>1.0</td>\n",
       "      <td>Badminton</td>\n",
       "      <td>pricedjust â¹ retaileri didnt understand wat a...</td>\n",
       "    </tr>\n",
       "  </tbody>\n",
       "</table>\n",
       "</div>"
      ],
      "text/plain": [
       "            reviewer_name               review_title  \\\n",
       "0            Kamal Suresh               Nice product   \n",
       "1       Flipkart Customer     Don't waste your money   \n",
       "2  A. S. Raja Srinivasan   Did not meet expectations   \n",
       "3     Suresh Narayanasamy                       Fair   \n",
       "4               ASHIK P A                Over priced   \n",
       "\n",
       "               place_of_review  up_votes  down_votes date_of_review  \\\n",
       "0   Certified Buyer, Chirakkal     889.0        64.0       Feb 2021   \n",
       "1   Certified Buyer, Hyderabad     109.0         6.0       Feb 2021   \n",
       "2  Certified Buyer, Dharmapuri      42.0         3.0       Apr 2021   \n",
       "3     Certified Buyer, Chennai      25.0         1.0            NaN   \n",
       "4                          NaN     147.0        24.0       Apr 2016   \n",
       "\n",
       "                                         review_text  reviewer_rating  \\\n",
       "0  Nice product, good quality, but price is now r...              4.0   \n",
       "1  They didn't supplied Yonex Mavis 350. Outside ...              1.0   \n",
       "2  Worst product. Damaged shuttlecocks packed in ...              1.0   \n",
       "3  Quite O. K. , but nowadays  the quality of the...              3.0   \n",
       "4  Over pricedJust â?¹620 ..from retailer.I didn'...              1.0   \n",
       "\n",
       "     Product                                cleaned_review_text  \n",
       "0  Badminton  nice product good quality price rise bad sign ...  \n",
       "1  Badminton  didnt supply yonex mavis outside cover yonex a...  \n",
       "2  Badminton  worst product damage shuttlecock pack new box ...  \n",
       "3  Badminton  quite k nowadays quality cork like years back ...  \n",
       "4  Badminton  pricedjust â¹ retaileri didnt understand wat a...  "
      ]
     },
     "execution_count": 35,
     "metadata": {},
     "output_type": "execute_result"
    }
   ],
   "source": [
    "data_combined.head()"
   ]
  },
  {
   "cell_type": "code",
   "execution_count": 36,
   "id": "f62f9103-40f8-4af4-8405-29395d04ae27",
   "metadata": {},
   "outputs": [
    {
     "data": {
      "text/plain": [
       "'nice product good quality price rise bad sign affordable price especially play everyday kindly help us term price thank youread'"
      ]
     },
     "execution_count": 36,
     "metadata": {},
     "output_type": "execute_result"
    }
   ],
   "source": [
    "\"\".join(data_combined['cleaned_review_text'][0])"
   ]
  },
  {
   "cell_type": "code",
   "execution_count": 37,
   "id": "65ec8c23",
   "metadata": {},
   "outputs": [
    {
     "data": {
      "text/html": [
       "<div>\n",
       "<style scoped>\n",
       "    .dataframe tbody tr th:only-of-type {\n",
       "        vertical-align: middle;\n",
       "    }\n",
       "\n",
       "    .dataframe tbody tr th {\n",
       "        vertical-align: top;\n",
       "    }\n",
       "\n",
       "    .dataframe thead th {\n",
       "        text-align: right;\n",
       "    }\n",
       "</style>\n",
       "<table border=\"1\" class=\"dataframe\">\n",
       "  <thead>\n",
       "    <tr style=\"text-align: right;\">\n",
       "      <th></th>\n",
       "      <th>reviewer_name</th>\n",
       "      <th>review_title</th>\n",
       "      <th>place_of_review</th>\n",
       "      <th>up_votes</th>\n",
       "      <th>down_votes</th>\n",
       "      <th>date_of_review</th>\n",
       "      <th>review_text</th>\n",
       "      <th>reviewer_rating</th>\n",
       "      <th>Product</th>\n",
       "      <th>cleaned_review_text</th>\n",
       "      <th>sentiments</th>\n",
       "    </tr>\n",
       "  </thead>\n",
       "  <tbody>\n",
       "    <tr>\n",
       "      <th>0</th>\n",
       "      <td>Kamal Suresh</td>\n",
       "      <td>Nice product</td>\n",
       "      <td>Certified Buyer, Chirakkal</td>\n",
       "      <td>889.0</td>\n",
       "      <td>64.0</td>\n",
       "      <td>Feb 2021</td>\n",
       "      <td>Nice product, good quality, but price is now r...</td>\n",
       "      <td>4.0</td>\n",
       "      <td>Badminton</td>\n",
       "      <td>nice product good quality price rise bad sign ...</td>\n",
       "      <td>1</td>\n",
       "    </tr>\n",
       "    <tr>\n",
       "      <th>1</th>\n",
       "      <td>Flipkart Customer</td>\n",
       "      <td>Don't waste your money</td>\n",
       "      <td>Certified Buyer, Hyderabad</td>\n",
       "      <td>109.0</td>\n",
       "      <td>6.0</td>\n",
       "      <td>Feb 2021</td>\n",
       "      <td>They didn't supplied Yonex Mavis 350. Outside ...</td>\n",
       "      <td>1.0</td>\n",
       "      <td>Badminton</td>\n",
       "      <td>didnt supply yonex mavis outside cover yonex a...</td>\n",
       "      <td>0</td>\n",
       "    </tr>\n",
       "    <tr>\n",
       "      <th>2</th>\n",
       "      <td>A. S. Raja Srinivasan</td>\n",
       "      <td>Did not meet expectations</td>\n",
       "      <td>Certified Buyer, Dharmapuri</td>\n",
       "      <td>42.0</td>\n",
       "      <td>3.0</td>\n",
       "      <td>Apr 2021</td>\n",
       "      <td>Worst product. Damaged shuttlecocks packed in ...</td>\n",
       "      <td>1.0</td>\n",
       "      <td>Badminton</td>\n",
       "      <td>worst product damage shuttlecock pack new box ...</td>\n",
       "      <td>0</td>\n",
       "    </tr>\n",
       "    <tr>\n",
       "      <th>3</th>\n",
       "      <td>Suresh Narayanasamy</td>\n",
       "      <td>Fair</td>\n",
       "      <td>Certified Buyer, Chennai</td>\n",
       "      <td>25.0</td>\n",
       "      <td>1.0</td>\n",
       "      <td>NaN</td>\n",
       "      <td>Quite O. K. , but nowadays  the quality of the...</td>\n",
       "      <td>3.0</td>\n",
       "      <td>Badminton</td>\n",
       "      <td>quite k nowadays quality cork like years back ...</td>\n",
       "      <td>1</td>\n",
       "    </tr>\n",
       "    <tr>\n",
       "      <th>4</th>\n",
       "      <td>ASHIK P A</td>\n",
       "      <td>Over priced</td>\n",
       "      <td>NaN</td>\n",
       "      <td>147.0</td>\n",
       "      <td>24.0</td>\n",
       "      <td>Apr 2016</td>\n",
       "      <td>Over pricedJust â?¹620 ..from retailer.I didn'...</td>\n",
       "      <td>1.0</td>\n",
       "      <td>Badminton</td>\n",
       "      <td>pricedjust â¹ retaileri didnt understand wat a...</td>\n",
       "      <td>0</td>\n",
       "    </tr>\n",
       "  </tbody>\n",
       "</table>\n",
       "</div>"
      ],
      "text/plain": [
       "            reviewer_name               review_title  \\\n",
       "0            Kamal Suresh               Nice product   \n",
       "1       Flipkart Customer     Don't waste your money   \n",
       "2  A. S. Raja Srinivasan   Did not meet expectations   \n",
       "3     Suresh Narayanasamy                       Fair   \n",
       "4               ASHIK P A                Over priced   \n",
       "\n",
       "               place_of_review  up_votes  down_votes date_of_review  \\\n",
       "0   Certified Buyer, Chirakkal     889.0        64.0       Feb 2021   \n",
       "1   Certified Buyer, Hyderabad     109.0         6.0       Feb 2021   \n",
       "2  Certified Buyer, Dharmapuri      42.0         3.0       Apr 2021   \n",
       "3     Certified Buyer, Chennai      25.0         1.0            NaN   \n",
       "4                          NaN     147.0        24.0       Apr 2016   \n",
       "\n",
       "                                         review_text  reviewer_rating  \\\n",
       "0  Nice product, good quality, but price is now r...              4.0   \n",
       "1  They didn't supplied Yonex Mavis 350. Outside ...              1.0   \n",
       "2  Worst product. Damaged shuttlecocks packed in ...              1.0   \n",
       "3  Quite O. K. , but nowadays  the quality of the...              3.0   \n",
       "4  Over pricedJust â?¹620 ..from retailer.I didn'...              1.0   \n",
       "\n",
       "     Product                                cleaned_review_text  sentiments  \n",
       "0  Badminton  nice product good quality price rise bad sign ...           1  \n",
       "1  Badminton  didnt supply yonex mavis outside cover yonex a...           0  \n",
       "2  Badminton  worst product damage shuttlecock pack new box ...           0  \n",
       "3  Badminton  quite k nowadays quality cork like years back ...           1  \n",
       "4  Badminton  pricedjust â¹ retaileri didnt understand wat a...           0  "
      ]
     },
     "execution_count": 37,
     "metadata": {},
     "output_type": "execute_result"
    }
   ],
   "source": [
    "from vaderSentiment.vaderSentiment import SentimentIntensityAnalyzer\n",
    "\n",
    "# Intializing SentimentIntensityAnalyzer object\n",
    "analyzer = SentimentIntensityAnalyzer()\n",
    "\n",
    "# Define a function to analyze the sentiment of each review text\n",
    "def analyze_sentiment(cleaned_text):\n",
    "    compound_score = analyzer.polarity_scores(cleaned_text)['compound']\n",
    "    \n",
    "    # Assign positive sentiment if compound score is greater than 0, else negative sentiment\n",
    "    if compound_score >0:\n",
    "        return 1 # Positive\n",
    "    else:\n",
    "        return 0 # Negative\n",
    "    \n",
    "# Apply the function to the 'cleaned_review_text' column\n",
    "data_combined['sentiments'] = data_combined['cleaned_review_text'].apply(analyze_sentiment)\n",
    "\n",
    "# Display the DataFrame with the new 'sentiments' column\n",
    "data_combined.head()"
   ]
  },
  {
   "cell_type": "code",
   "execution_count": 38,
   "id": "e9e64b83",
   "metadata": {},
   "outputs": [
    {
     "data": {
      "text/plain": [
       "1    0.634749\n",
       "0    0.365251\n",
       "Name: sentiments, dtype: float64"
      ]
     },
     "execution_count": 38,
     "metadata": {},
     "output_type": "execute_result"
    }
   ],
   "source": [
    "data_combined['sentiments'].value_counts(dropna =False,normalize=True)"
   ]
  },
  {
   "cell_type": "markdown",
   "id": "b0e10939",
   "metadata": {},
   "source": [
    "## Step 1 - Identify Input and Output"
   ]
  },
  {
   "cell_type": "code",
   "execution_count": 39,
   "id": "17f2727f",
   "metadata": {},
   "outputs": [
    {
     "name": "stdout",
     "output_type": "stream",
     "text": [
      "(20219,) (20219,)\n"
     ]
    }
   ],
   "source": [
    "X = data_combined['review_text']\n",
    "y = data_combined['sentiments']\n",
    "print(X.shape, y.shape)"
   ]
  },
  {
   "cell_type": "markdown",
   "id": "70354f0f",
   "metadata": {},
   "source": [
    "## Step 2 - Split the Data into Train and Test"
   ]
  },
  {
   "cell_type": "code",
   "execution_count": 40,
   "id": "e06ae3b0",
   "metadata": {},
   "outputs": [
    {
     "name": "stdout",
     "output_type": "stream",
     "text": [
      "(15164,) (15164,)\n",
      "(5055,) (5055,)\n"
     ]
    }
   ],
   "source": [
    "# Step 2: Split the data into train and test\n",
    "\n",
    "from sklearn.model_selection import train_test_split\n",
    "\n",
    "# split X and y into training and testing sets. \n",
    "# By default, it splits 75% training and 25% test\n",
    "# random_state=1 for reproducibility\n",
    "\n",
    "X_train, X_test, y_train, y_test = train_test_split(X, y, random_state=1)\n",
    "\n",
    "print(X_train.shape, y_train.shape)\n",
    "print(X_test.shape, y_test.shape)\n"
   ]
  },
  {
   "cell_type": "markdown",
   "id": "dcc689c6",
   "metadata": {},
   "source": [
    "### Caching to optimize the runtime\n",
    "We can create the Memory object to cache the intermediate results of `vectorization`.\n",
    "\n",
    "This will avoid redundant computations of vectorization during the grid search, thereby optimizing the runtime. Adjust the cachedir parameter as needed to specify the location for caching the results.\n",
    "\n",
    "### Implementing Memoization to further improve the runtime\n",
    "Implement memoization to store the results of `expensive function calls` and reuse them when the same inputs occur again. This is particularly useful for dynamic programming problems."
   ]
  },
  {
   "cell_type": "markdown",
   "id": "0974a15c",
   "metadata": {},
   "source": [
    "## Step 4 - Text cleaning of Train data\n"
   ]
  },
  {
   "cell_type": "code",
   "execution_count": 41,
   "id": "116bd87e",
   "metadata": {},
   "outputs": [
    {
     "name": "stdout",
     "output_type": "stream",
     "text": [
      "CPU times: total: 1.09 s\n",
      "Wall time: 2.55 s\n"
     ]
    }
   ],
   "source": [
    "# Improving the efficiency by applying cleaning the text data before hand\n",
    "\n",
    "%time X_train_clean = Pre_process_pip.transform(X_train)"
   ]
  },
  {
   "cell_type": "markdown",
   "id": "5d6d5e54",
   "metadata": {},
   "source": [
    "## Step 5 - Text cleaning of Test data"
   ]
  },
  {
   "cell_type": "code",
   "execution_count": 42,
   "id": "1318746f",
   "metadata": {},
   "outputs": [
    {
     "name": "stdout",
     "output_type": "stream",
     "text": [
      "CPU times: total: 500 ms\n",
      "Wall time: 867 ms\n"
     ]
    }
   ],
   "source": [
    "%time X_test_clean = Pre_process_pip.transform(X_test)"
   ]
  },
  {
   "cell_type": "code",
   "execution_count": 43,
   "id": "45090f49-4906-4892-b2f7-28f66f99881e",
   "metadata": {},
   "outputs": [
    {
     "name": "stdout",
     "output_type": "stream",
     "text": [
      "F1-score for Logistic Regression: 0.974023953958625\n",
      "F1-score for Random Forest: 0.9719684063806722\n",
      "F1-score for Naive Bayes: 0.9482599322451494\n"
     ]
    }
   ],
   "source": [
    "\n",
    "from sklearn.pipeline import Pipeline\n",
    "from sklearn.model_selection import GridSearchCV\n",
    "from sklearn.feature_extraction.text import TfidfVectorizer,CountVectorizer\n",
    "from sklearn.linear_model import LogisticRegression\n",
    "from sklearn.ensemble import RandomForestClassifier\n",
    "from sklearn.tree import DecisionTreeClassifier\n",
    "from sklearn.naive_bayes import MultinomialNB\n",
    "from sklearn.metrics import f1_score\n",
    "import pickle\n",
    "\n",
    "# Define a list of classifiers to try\n",
    "classifiers = [\n",
    "    ('Logistic Regression', LogisticRegression()),\n",
    "    ('Random Forest', RandomForestClassifier()),\n",
    "    ('Naive Bayes', MultinomialNB())\n",
    "]\n",
    "\n",
    "best_model = None\n",
    "best_f1_score = 0\n",
    "\n",
    "# Iterate over classifiers\n",
    "for clf_name, clf in classifiers:\n",
    "    # Define the pipeline\n",
    "    pipeline = Pipeline([\n",
    "        ('tfidf', TfidfVectorizer()),\n",
    "        ('clf', clf)\n",
    "    ])\n",
    "    \n",
    "    # Train the pipeline\n",
    "    pipeline.fit(X_train, y_train)\n",
    "    \n",
    "    # Predict on test set\n",
    "    y_pred = pipeline.predict(X_test)\n",
    "    \n",
    "    # Calculate F1-score\n",
    "    f1 = f1_score(y_test, y_pred)\n",
    "    print(f\"F1-score for {clf_name}: {f1}\")\n",
    "    \n",
    "    # Check if this model is the best so far\n",
    "    if f1 > best_f1_score:\n",
    "        best_f1_score = f1\n",
    "        best_model = pipeline\n",
    "\n",
    "# Pickle the best model\n",
    "with open(r'Application_Deployment\\models\\best_model.pkl', 'wb') as f:\n",
    "    pickle.dump(best_model, f)\n"
   ]
  },
  {
   "cell_type": "code",
   "execution_count": 47,
   "id": "55a4db86-cabf-4c41-92f1-9541505879ad",
   "metadata": {},
   "outputs": [
    {
     "name": "stdout",
     "output_type": "stream",
     "text": [
      "CPU times: total: 78.1 ms\n",
      "Wall time: 269 ms\n",
      "Classifier: Logistic Regression\n",
      "Train F1-score: 0.9826\n",
      "Test F1-score: 0.9740\n",
      "\n",
      "CPU times: total: 7.19 s\n",
      "Wall time: 10.5 s\n",
      "Classifier: Random Forest\n",
      "Train F1-score: 0.9966\n",
      "Test F1-score: 0.9707\n",
      "\n",
      "CPU times: total: 125 ms\n",
      "Wall time: 172 ms\n",
      "Classifier: Naive Bayes\n",
      "Train F1-score: 0.9669\n",
      "Test F1-score: 0.9483\n",
      "\n",
      "CPU times: total: 547 ms\n",
      "Wall time: 695 ms\n",
      "Classifier: Deciion Tree\n",
      "Train F1-score: 0.9966\n",
      "Test F1-score: 0.9698\n",
      "\n"
     ]
    }
   ],
   "source": [
    "from sklearn.pipeline import Pipeline\n",
    "from sklearn.feature_extraction.text import TfidfVectorizer\n",
    "from sklearn.linear_model import LogisticRegression\n",
    "from sklearn.ensemble import RandomForestClassifier\n",
    "from sklearn.naive_bayes import MultinomialNB\n",
    "from sklearn.metrics import f1_score\n",
    "\n",
    "# Define a list of classifiers to evaluate\n",
    "classifiers = [\n",
    "    ('Logistic Regression', LogisticRegression()),\n",
    "    ('Random Forest', RandomForestClassifier()),\n",
    "    ('Naive Bayes', MultinomialNB()),\n",
    "     ('Deciion Tree',DecisionTreeClassifier())\n",
    "     ]\n",
    "\n",
    "best_f1_score = 0\n",
    "best_model = None\n",
    "\n",
    "# Iterate over different classifiers\n",
    "for name, classifier in classifiers:\n",
    "    # Define the pipeline\n",
    "    pipeline = Pipeline([\n",
    "        ('tfidf', TfidfVectorizer()),  # TF-IDF Vectorization\n",
    "        ('clf', classifier)  # Classifier\n",
    "    ])\n",
    "    \n",
    "    # Train the model\n",
    "    \n",
    "    %time pipeline.fit(X_train, y_train)\n",
    "    \n",
    "    # Predictions on training and testing sets\n",
    "    y_train_pred = pipeline.predict(X_train)\n",
    "    y_test_pred = pipeline.predict(X_test)\n",
    "    \n",
    "    # Calculate F1-score on training and testing sets\n",
    "    train_f1_score = f1_score(y_train, y_train_pred)\n",
    "    test_f1_score = f1_score(y_test, y_test_pred)\n",
    "    \n",
    "    print(f\"Classifier: {name}\")\n",
    "    print(f\"Train F1-score: {train_f1_score:.4f}\")\n",
    "    print(f\"Test F1-score: {test_f1_score:.4f}\")\n",
    "    print()\n",
    "    \n",
    "    # Check if the current model has the best F1-score on the testing set\n",
    "    if test_f1_score > best_f1_score:\n",
    "        best_f1_score = test_f1_score\n",
    "        best_model = pipeline\n",
    "\n",
    "# Pickle the best model\n",
    "import pickle\n",
    "\n",
    "pickle.dump(best_model,open(r\"Application_Deployment\\models\\best_model.pkl\",'wb'))"
   ]
  },
  {
   "cell_type": "code",
   "execution_count": 48,
   "id": "a38a18eb-b079-4d00-922e-f2b611700d22",
   "metadata": {},
   "outputs": [
    {
     "name": "stdout",
     "output_type": "stream",
     "text": [
      "Enter your text: good product\n",
      "Predicted sentiment: Positive\n"
     ]
    }
   ],
   "source": [
    "import pickle\n",
    "\n",
    "# Load the pickled model\n",
    "with open('best_model.pkl', 'rb') as file:\n",
    "    model = pickle.load(file)\n",
    "\n",
    "# Take user input text\n",
    "user_input_text = input(\"Enter your text: \")\n",
    "Review = pd.Series(user_input_text)\n",
    "\n",
    "# Preprocess the input text\n",
    "processed_input_text = Pre_process_pip.transform(Review)  \n",
    "\n",
    "# Use the loaded model to predict the sentiment of the input text\n",
    "predicted_sentiment = model.predict(processed_input_text)\n",
    "\n",
    "# Map predicted sentiment to human-readable labels\n",
    "predicted_sentiment_label = \"Positive\" if predicted_sentiment[0] == 1 else \"Negative\"\n",
    "\n",
    "# Print the predicted sentiment\n",
    "print(\"Predicted sentiment:\", predicted_sentiment_label)\n"
   ]
  },
  {
   "cell_type": "code",
   "execution_count": null,
   "id": "77f4d518",
   "metadata": {},
   "outputs": [],
   "source": []
  },
  {
   "cell_type": "code",
   "execution_count": null,
   "id": "16e598be",
   "metadata": {},
   "outputs": [],
   "source": []
  },
  {
   "cell_type": "code",
   "execution_count": null,
   "id": "60cb31fb",
   "metadata": {},
   "outputs": [],
   "source": []
  },
  {
   "cell_type": "code",
   "execution_count": null,
   "id": "bd2295a8",
   "metadata": {},
   "outputs": [],
   "source": []
  },
  {
   "cell_type": "code",
   "execution_count": null,
   "id": "730ae3c2",
   "metadata": {},
   "outputs": [],
   "source": []
  }
 ],
 "metadata": {
  "kernelspec": {
   "display_name": "Python 3 (ipykernel)",
   "language": "python",
   "name": "python3"
  },
  "language_info": {
   "codemirror_mode": {
    "name": "ipython",
    "version": 3
   },
   "file_extension": ".py",
   "mimetype": "text/x-python",
   "name": "python",
   "nbconvert_exporter": "python",
   "pygments_lexer": "ipython3",
   "version": "3.11.3"
  }
 },
 "nbformat": 4,
 "nbformat_minor": 5
}
